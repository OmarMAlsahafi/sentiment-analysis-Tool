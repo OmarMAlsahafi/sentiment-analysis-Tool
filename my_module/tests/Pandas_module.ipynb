{
 "cells": [
  {
   "cell_type": "code",
   "execution_count": 1,
   "metadata": {},
   "outputs": [],
   "source": [
    "import pandas as pd\n",
    "import numpy as np\n",
    "import matplotlib.pyplot as plt\n",
    "from textblob import TextBlob"
   ]
  },
  {
   "cell_type": "code",
   "execution_count": 2,
   "metadata": {},
   "outputs": [],
   "source": [
    "df = pd.read_csv('G:\\My Drive\\Coding\\Personal Projects\\sentiment-analysis-tool\\my_module\\Amazon_Unlocked_Mobile.csv')"
   ]
  },
  {
   "cell_type": "code",
   "execution_count": 3,
   "metadata": {},
   "outputs": [
    {
     "data": {
      "text/html": [
       "<div>\n",
       "<style scoped>\n",
       "    .dataframe tbody tr th:only-of-type {\n",
       "        vertical-align: middle;\n",
       "    }\n",
       "\n",
       "    .dataframe tbody tr th {\n",
       "        vertical-align: top;\n",
       "    }\n",
       "\n",
       "    .dataframe thead th {\n",
       "        text-align: right;\n",
       "    }\n",
       "</style>\n",
       "<table border=\"1\" class=\"dataframe\">\n",
       "  <thead>\n",
       "    <tr style=\"text-align: right;\">\n",
       "      <th></th>\n",
       "      <th>Product Name</th>\n",
       "      <th>Brand Name</th>\n",
       "      <th>Price</th>\n",
       "      <th>Rating</th>\n",
       "      <th>Reviews</th>\n",
       "      <th>Review Votes</th>\n",
       "    </tr>\n",
       "  </thead>\n",
       "  <tbody>\n",
       "    <tr>\n",
       "      <th>0</th>\n",
       "      <td>\"CLEAR CLEAN ESN\" Sprint EPIC 4G Galaxy SPH-D7...</td>\n",
       "      <td>Samsung</td>\n",
       "      <td>199.99</td>\n",
       "      <td>5</td>\n",
       "      <td>I feel so LUCKY to have found this used (phone...</td>\n",
       "      <td>1.0</td>\n",
       "    </tr>\n",
       "    <tr>\n",
       "      <th>1</th>\n",
       "      <td>\"CLEAR CLEAN ESN\" Sprint EPIC 4G Galaxy SPH-D7...</td>\n",
       "      <td>Samsung</td>\n",
       "      <td>199.99</td>\n",
       "      <td>4</td>\n",
       "      <td>nice phone, nice up grade from my pantach revu...</td>\n",
       "      <td>0.0</td>\n",
       "    </tr>\n",
       "    <tr>\n",
       "      <th>2</th>\n",
       "      <td>\"CLEAR CLEAN ESN\" Sprint EPIC 4G Galaxy SPH-D7...</td>\n",
       "      <td>Samsung</td>\n",
       "      <td>199.99</td>\n",
       "      <td>5</td>\n",
       "      <td>Very pleased</td>\n",
       "      <td>0.0</td>\n",
       "    </tr>\n",
       "    <tr>\n",
       "      <th>3</th>\n",
       "      <td>\"CLEAR CLEAN ESN\" Sprint EPIC 4G Galaxy SPH-D7...</td>\n",
       "      <td>Samsung</td>\n",
       "      <td>199.99</td>\n",
       "      <td>4</td>\n",
       "      <td>It works good but it goes slow sometimes but i...</td>\n",
       "      <td>0.0</td>\n",
       "    </tr>\n",
       "    <tr>\n",
       "      <th>4</th>\n",
       "      <td>\"CLEAR CLEAN ESN\" Sprint EPIC 4G Galaxy SPH-D7...</td>\n",
       "      <td>Samsung</td>\n",
       "      <td>199.99</td>\n",
       "      <td>4</td>\n",
       "      <td>Great phone to replace my lost phone. The only...</td>\n",
       "      <td>0.0</td>\n",
       "    </tr>\n",
       "  </tbody>\n",
       "</table>\n",
       "</div>"
      ],
      "text/plain": [
       "                                        Product Name Brand Name   Price  \\\n",
       "0  \"CLEAR CLEAN ESN\" Sprint EPIC 4G Galaxy SPH-D7...    Samsung  199.99   \n",
       "1  \"CLEAR CLEAN ESN\" Sprint EPIC 4G Galaxy SPH-D7...    Samsung  199.99   \n",
       "2  \"CLEAR CLEAN ESN\" Sprint EPIC 4G Galaxy SPH-D7...    Samsung  199.99   \n",
       "3  \"CLEAR CLEAN ESN\" Sprint EPIC 4G Galaxy SPH-D7...    Samsung  199.99   \n",
       "4  \"CLEAR CLEAN ESN\" Sprint EPIC 4G Galaxy SPH-D7...    Samsung  199.99   \n",
       "\n",
       "   Rating                                            Reviews  Review Votes  \n",
       "0       5  I feel so LUCKY to have found this used (phone...           1.0  \n",
       "1       4  nice phone, nice up grade from my pantach revu...           0.0  \n",
       "2       5                                       Very pleased           0.0  \n",
       "3       4  It works good but it goes slow sometimes but i...           0.0  \n",
       "4       4  Great phone to replace my lost phone. The only...           0.0  "
      ]
     },
     "execution_count": 3,
     "metadata": {},
     "output_type": "execute_result"
    }
   ],
   "source": [
    "df.head()"
   ]
  },
  {
   "cell_type": "code",
   "execution_count": 4,
   "metadata": {},
   "outputs": [
    {
     "data": {
      "text/plain": [
       "Product Name\n",
       "Apple iPhone 4s 8GB Unlocked Smartphone w/ 8MP Camera, White (Certified Refurbished)                                    1451\n",
       "Apple MF259LL/A - iPhone 4s 8GB / 8MP Camera - Unlocked - Black (Certified Refurbished)                                 1241\n",
       "BLU Studio 5.0 C HD Unlocked Cellphone, Black                                                                           1194\n",
       "OtterBox Iphone 5/5S/SE Defender Case w/ Drop and Dust Proctection - Realtree AP Pink                                   1129\n",
       "Motorola Moto E (1st Generation) - Black - 4 GB - Global GSM Unlocked Phone                                             1127\n",
       "                                                                                                                        ... \n",
       "Samsung Galaxy express Prime Unlocked 4G LTE J320A 16GB Quad Core LCD 5\" Android 6.0 Desbloqueado                          1\n",
       "Samsung Galaxy J1 Ace J111M 8GB Unlocked GSM Quad-Core Android LolliPop Smartphone - Black (International Version)         1\n",
       "Samsung Galaxy J1 Ace J111M 8GB Unlocked GSM Quad-Core Android LolliPop Smartphone - White (International Version)         1\n",
       "Samsung Galaxy J1 Ace J111M LTE Dual Sim 8gb (White)                                                                       1\n",
       "BLUBOO Maya Max 32GB 6.0 Inch Android 6.0 Smartphone, MTK6750 Octa Core 1.5GHz, 3GB RAM GSM & WCDMA & FDD-LTE (Gold)       1\n",
       "Name: count, Length: 4410, dtype: int64"
      ]
     },
     "execution_count": 4,
     "metadata": {},
     "output_type": "execute_result"
    }
   ],
   "source": [
    "df['Product Name'].value_counts()"
   ]
  },
  {
   "cell_type": "code",
   "execution_count": 5,
   "metadata": {},
   "outputs": [],
   "source": [
    "#Task1\n",
    "class SentimentAnalysis:\n",
    "    @staticmethod\n",
    "    def sentiment_analyzer(text):\n",
    "        blob = TextBlob(text)\n",
    "        score = blob.sentiment.polarity\n",
    "\n",
    "        if score < -0.2:\n",
    "            return 'Negative'\n",
    "        elif score > 0.2:\n",
    "            return 'Positive'\n",
    "        else:\n",
    "            return 'Neutral'"
   ]
  },
  {
   "cell_type": "code",
   "execution_count": 6,
   "metadata": {},
   "outputs": [
    {
     "name": "stdout",
     "output_type": "stream",
     "text": [
      "happy Positive\n",
      "exciting Positive\n",
      "good Positive\n",
      "rich Positive\n",
      "smile Positive\n",
      "sad Negative\n",
      "disappointed Negative\n",
      "bad Negative\n",
      "poor Negative\n",
      "anger Negative\n",
      "food Neutral\n",
      "animal Neutral\n"
     ]
    }
   ],
   "source": [
    "#Task2\n",
    "test_data = ['happy', 'exciting', 'good', 'rich', 'smile', 'sad', 'disappointed', 'bad', 'poor', 'anger', 'food', 'animal']\n",
    "\n",
    "for x in test_data:\n",
    "    print(x, SentimentAnalysis.sentiment_analyzer(x))\n"
   ]
  },
  {
   "cell_type": "code",
   "execution_count": 7,
   "metadata": {},
   "outputs": [
    {
     "name": "stdout",
     "output_type": "stream",
     "text": [
      "Product Name: BLU Studio 5.0 C HD Unlocked Cellphone, Black\n",
      "Number of Rows: 1194\n",
      "Number of Columns: 6\n",
      "Length of Shortest Review: 45\n",
      "Length of Longest Review: 45\n",
      "Average Length of Review: 45.00\n"
     ]
    }
   ],
   "source": [
    "#Task3\n",
    "filtered_df = df[df['Product Name'] == 'BLU Studio 5.0 C HD Unlocked Cellphone, Black']\n",
    "\n",
    "if len(filtered_df) < 1000:\n",
    "    raise ValueError(\"Selected product does not have at least 1000 reviews.\")\n",
    "\n",
    "product_name = 'BLU Studio 5.0 C HD Unlocked Cellphone, Black'\n",
    "num_rows = len(filtered_df)\n",
    "num_columns = filtered_df.shape[1]\n",
    "\n",
    "review_lengths = filtered_df['Product Name'].str.len()\n",
    "shortest_review_length = review_lengths.min()\n",
    "longest_review_length = review_lengths.max()\n",
    "average_review_length = review_lengths.mean()\n",
    "\n",
    "print(f\"Product Name: {product_name}\")\n",
    "print(f\"Number of Rows: {num_rows}\")\n",
    "print(f\"Number of Columns: {num_columns}\")\n",
    "print(f\"Length of Shortest Review: {shortest_review_length}\")\n",
    "print(f\"Length of Longest Review: {longest_review_length}\")\n",
    "print(f\"Average Length of Review: {average_review_length:.2f}\")\n"
   ]
  },
  {
   "cell_type": "code",
   "execution_count": 8,
   "metadata": {},
   "outputs": [
    {
     "data": {
      "text/html": [
       "<div>\n",
       "<style scoped>\n",
       "    .dataframe tbody tr th:only-of-type {\n",
       "        vertical-align: middle;\n",
       "    }\n",
       "\n",
       "    .dataframe tbody tr th {\n",
       "        vertical-align: top;\n",
       "    }\n",
       "\n",
       "    .dataframe thead th {\n",
       "        text-align: right;\n",
       "    }\n",
       "</style>\n",
       "<table border=\"1\" class=\"dataframe\">\n",
       "  <thead>\n",
       "    <tr style=\"text-align: right;\">\n",
       "      <th></th>\n",
       "      <th>Product Name</th>\n",
       "      <th>Brand Name</th>\n",
       "      <th>Price</th>\n",
       "      <th>Rating</th>\n",
       "      <th>Reviews</th>\n",
       "      <th>Review Votes</th>\n",
       "    </tr>\n",
       "  </thead>\n",
       "  <tbody>\n",
       "    <tr>\n",
       "      <th>0</th>\n",
       "      <td>BLU Studio 5.0 C HD Unlocked Cellphone, Black</td>\n",
       "      <td>BLU</td>\n",
       "      <td>173.44</td>\n",
       "      <td>5</td>\n",
       "      <td>I absolutely love this phone! My only problem ...</td>\n",
       "      <td>0.0</td>\n",
       "    </tr>\n",
       "    <tr>\n",
       "      <th>1</th>\n",
       "      <td>BLU Studio 5.0 C HD Unlocked Cellphone, Black</td>\n",
       "      <td>BLU</td>\n",
       "      <td>173.44</td>\n",
       "      <td>5</td>\n",
       "      <td>This phone is absolutely fantastic for the pri...</td>\n",
       "      <td>0.0</td>\n",
       "    </tr>\n",
       "    <tr>\n",
       "      <th>2</th>\n",
       "      <td>BLU Studio 5.0 C HD Unlocked Cellphone, Black</td>\n",
       "      <td>BLU</td>\n",
       "      <td>173.44</td>\n",
       "      <td>4</td>\n",
       "      <td>I bought this phone for my wife as a birthday ...</td>\n",
       "      <td>0.0</td>\n",
       "    </tr>\n",
       "    <tr>\n",
       "      <th>3</th>\n",
       "      <td>BLU Studio 5.0 C HD Unlocked Cellphone, Black</td>\n",
       "      <td>BLU</td>\n",
       "      <td>173.44</td>\n",
       "      <td>4</td>\n",
       "      <td>I have been using this phone for several month...</td>\n",
       "      <td>2.0</td>\n",
       "    </tr>\n",
       "    <tr>\n",
       "      <th>4</th>\n",
       "      <td>BLU Studio 5.0 C HD Unlocked Cellphone, Black</td>\n",
       "      <td>BLU</td>\n",
       "      <td>173.44</td>\n",
       "      <td>2</td>\n",
       "      <td>The phone came in excellent condition , but it...</td>\n",
       "      <td>0.0</td>\n",
       "    </tr>\n",
       "    <tr>\n",
       "      <th>...</th>\n",
       "      <td>...</td>\n",
       "      <td>...</td>\n",
       "      <td>...</td>\n",
       "      <td>...</td>\n",
       "      <td>...</td>\n",
       "      <td>...</td>\n",
       "    </tr>\n",
       "    <tr>\n",
       "      <th>1189</th>\n",
       "      <td>BLU Studio 5.0 C HD Unlocked Cellphone, Black</td>\n",
       "      <td>BLU</td>\n",
       "      <td>173.44</td>\n",
       "      <td>5</td>\n",
       "      <td>Good cell phone, it is nice, thanks</td>\n",
       "      <td>0.0</td>\n",
       "    </tr>\n",
       "    <tr>\n",
       "      <th>1190</th>\n",
       "      <td>BLU Studio 5.0 C HD Unlocked Cellphone, Black</td>\n",
       "      <td>BLU</td>\n",
       "      <td>173.44</td>\n",
       "      <td>4</td>\n",
       "      <td>great value</td>\n",
       "      <td>0.0</td>\n",
       "    </tr>\n",
       "    <tr>\n",
       "      <th>1191</th>\n",
       "      <td>BLU Studio 5.0 C HD Unlocked Cellphone, Black</td>\n",
       "      <td>BLU</td>\n",
       "      <td>173.44</td>\n",
       "      <td>5</td>\n",
       "      <td>Nothing to say other than : go for it.The scre...</td>\n",
       "      <td>NaN</td>\n",
       "    </tr>\n",
       "    <tr>\n",
       "      <th>1192</th>\n",
       "      <td>BLU Studio 5.0 C HD Unlocked Cellphone, Black</td>\n",
       "      <td>BLU</td>\n",
       "      <td>173.44</td>\n",
       "      <td>1</td>\n",
       "      <td>This phone sucks and It wnt let me use it with...</td>\n",
       "      <td>2.0</td>\n",
       "    </tr>\n",
       "    <tr>\n",
       "      <th>1193</th>\n",
       "      <td>BLU Studio 5.0 C HD Unlocked Cellphone, Black</td>\n",
       "      <td>BLU</td>\n",
       "      <td>173.44</td>\n",
       "      <td>4</td>\n",
       "      <td>The cell phone is great! I love it! It's fast ...</td>\n",
       "      <td>0.0</td>\n",
       "    </tr>\n",
       "  </tbody>\n",
       "</table>\n",
       "<p>1194 rows × 6 columns</p>\n",
       "</div>"
      ],
      "text/plain": [
       "                                       Product Name Brand Name   Price  \\\n",
       "0     BLU Studio 5.0 C HD Unlocked Cellphone, Black        BLU  173.44   \n",
       "1     BLU Studio 5.0 C HD Unlocked Cellphone, Black        BLU  173.44   \n",
       "2     BLU Studio 5.0 C HD Unlocked Cellphone, Black        BLU  173.44   \n",
       "3     BLU Studio 5.0 C HD Unlocked Cellphone, Black        BLU  173.44   \n",
       "4     BLU Studio 5.0 C HD Unlocked Cellphone, Black        BLU  173.44   \n",
       "...                                             ...        ...     ...   \n",
       "1189  BLU Studio 5.0 C HD Unlocked Cellphone, Black        BLU  173.44   \n",
       "1190  BLU Studio 5.0 C HD Unlocked Cellphone, Black        BLU  173.44   \n",
       "1191  BLU Studio 5.0 C HD Unlocked Cellphone, Black        BLU  173.44   \n",
       "1192  BLU Studio 5.0 C HD Unlocked Cellphone, Black        BLU  173.44   \n",
       "1193  BLU Studio 5.0 C HD Unlocked Cellphone, Black        BLU  173.44   \n",
       "\n",
       "      Rating                                            Reviews  Review Votes  \n",
       "0          5  I absolutely love this phone! My only problem ...           0.0  \n",
       "1          5  This phone is absolutely fantastic for the pri...           0.0  \n",
       "2          4  I bought this phone for my wife as a birthday ...           0.0  \n",
       "3          4  I have been using this phone for several month...           2.0  \n",
       "4          2  The phone came in excellent condition , but it...           0.0  \n",
       "...      ...                                                ...           ...  \n",
       "1189       5                Good cell phone, it is nice, thanks           0.0  \n",
       "1190       4                                        great value           0.0  \n",
       "1191       5  Nothing to say other than : go for it.The scre...           NaN  \n",
       "1192       1  This phone sucks and It wnt let me use it with...           2.0  \n",
       "1193       4  The cell phone is great! I love it! It's fast ...           0.0  \n",
       "\n",
       "[1194 rows x 6 columns]"
      ]
     },
     "execution_count": 8,
     "metadata": {},
     "output_type": "execute_result"
    }
   ],
   "source": [
    "filtered_df = filtered_df.reset_index(drop=True)\n",
    "filtered_df"
   ]
  },
  {
   "cell_type": "code",
   "execution_count": 9,
   "metadata": {},
   "outputs": [],
   "source": [
    "#Task4\n",
    "filtered_df['Sentiment'] = filtered_df['Reviews'].apply(SentimentAnalysis.sentiment_analyzer)\n"
   ]
  },
  {
   "cell_type": "code",
   "execution_count": 10,
   "metadata": {},
   "outputs": [
    {
     "data": {
      "text/plain": [
       "Sentiment\n",
       "Positive    754\n",
       "Neutral     408\n",
       "Negative     32\n",
       "Name: count, dtype: int64"
      ]
     },
     "execution_count": 10,
     "metadata": {},
     "output_type": "execute_result"
    }
   ],
   "source": [
    "filtered_df['Sentiment'].value_counts()"
   ]
  },
  {
   "cell_type": "code",
   "execution_count": 11,
   "metadata": {},
   "outputs": [
    {
     "data": {
      "text/html": [
       "<div>\n",
       "<style scoped>\n",
       "    .dataframe tbody tr th:only-of-type {\n",
       "        vertical-align: middle;\n",
       "    }\n",
       "\n",
       "    .dataframe tbody tr th {\n",
       "        vertical-align: top;\n",
       "    }\n",
       "\n",
       "    .dataframe thead th {\n",
       "        text-align: right;\n",
       "    }\n",
       "</style>\n",
       "<table border=\"1\" class=\"dataframe\">\n",
       "  <thead>\n",
       "    <tr style=\"text-align: right;\">\n",
       "      <th></th>\n",
       "      <th>Product Name</th>\n",
       "      <th>Brand Name</th>\n",
       "      <th>Price</th>\n",
       "      <th>Rating</th>\n",
       "      <th>Reviews</th>\n",
       "      <th>Review Votes</th>\n",
       "      <th>Sentiment</th>\n",
       "    </tr>\n",
       "  </thead>\n",
       "  <tbody>\n",
       "    <tr>\n",
       "      <th>0</th>\n",
       "      <td>BLU Studio 5.0 C HD Unlocked Cellphone, Black</td>\n",
       "      <td>BLU</td>\n",
       "      <td>173.44</td>\n",
       "      <td>5</td>\n",
       "      <td>I absolutely love this phone! My only problem ...</td>\n",
       "      <td>0.0</td>\n",
       "      <td>Positive</td>\n",
       "    </tr>\n",
       "    <tr>\n",
       "      <th>1</th>\n",
       "      <td>BLU Studio 5.0 C HD Unlocked Cellphone, Black</td>\n",
       "      <td>BLU</td>\n",
       "      <td>173.44</td>\n",
       "      <td>5</td>\n",
       "      <td>This phone is absolutely fantastic for the pri...</td>\n",
       "      <td>0.0</td>\n",
       "      <td>Neutral</td>\n",
       "    </tr>\n",
       "    <tr>\n",
       "      <th>2</th>\n",
       "      <td>BLU Studio 5.0 C HD Unlocked Cellphone, Black</td>\n",
       "      <td>BLU</td>\n",
       "      <td>173.44</td>\n",
       "      <td>4</td>\n",
       "      <td>I bought this phone for my wife as a birthday ...</td>\n",
       "      <td>0.0</td>\n",
       "      <td>Positive</td>\n",
       "    </tr>\n",
       "    <tr>\n",
       "      <th>3</th>\n",
       "      <td>BLU Studio 5.0 C HD Unlocked Cellphone, Black</td>\n",
       "      <td>BLU</td>\n",
       "      <td>173.44</td>\n",
       "      <td>4</td>\n",
       "      <td>I have been using this phone for several month...</td>\n",
       "      <td>2.0</td>\n",
       "      <td>Positive</td>\n",
       "    </tr>\n",
       "    <tr>\n",
       "      <th>4</th>\n",
       "      <td>BLU Studio 5.0 C HD Unlocked Cellphone, Black</td>\n",
       "      <td>BLU</td>\n",
       "      <td>173.44</td>\n",
       "      <td>2</td>\n",
       "      <td>The phone came in excellent condition , but it...</td>\n",
       "      <td>0.0</td>\n",
       "      <td>Positive</td>\n",
       "    </tr>\n",
       "  </tbody>\n",
       "</table>\n",
       "</div>"
      ],
      "text/plain": [
       "                                    Product Name Brand Name   Price  Rating  \\\n",
       "0  BLU Studio 5.0 C HD Unlocked Cellphone, Black        BLU  173.44       5   \n",
       "1  BLU Studio 5.0 C HD Unlocked Cellphone, Black        BLU  173.44       5   \n",
       "2  BLU Studio 5.0 C HD Unlocked Cellphone, Black        BLU  173.44       4   \n",
       "3  BLU Studio 5.0 C HD Unlocked Cellphone, Black        BLU  173.44       4   \n",
       "4  BLU Studio 5.0 C HD Unlocked Cellphone, Black        BLU  173.44       2   \n",
       "\n",
       "                                             Reviews  Review Votes Sentiment  \n",
       "0  I absolutely love this phone! My only problem ...           0.0  Positive  \n",
       "1  This phone is absolutely fantastic for the pri...           0.0   Neutral  \n",
       "2  I bought this phone for my wife as a birthday ...           0.0  Positive  \n",
       "3  I have been using this phone for several month...           2.0  Positive  \n",
       "4  The phone came in excellent condition , but it...           0.0  Positive  "
      ]
     },
     "execution_count": 11,
     "metadata": {},
     "output_type": "execute_result"
    }
   ],
   "source": [
    "filtered_df.head()"
   ]
  },
  {
   "cell_type": "code",
   "execution_count": 12,
   "metadata": {},
   "outputs": [
    {
     "data": {
      "image/png": "[encoded data removed]",
      "text/plain": [
       "<Figure size 1000x600 with 1 Axes>"
      ]
     },
     "metadata": {},
     "output_type": "display_data"
    }
   ],
   "source": [
    "#Task5, A\n",
    "sentiment_counts = filtered_df['Sentiment'].value_counts()\n",
    "\n",
    "plt.figure(figsize=(10, 6))\n",
    "sentiment_counts.plot(kind='bar', color=['green', 'blue', 'red'])\n",
    "plt.title('Sentiment Analysis of Reviews')\n",
    "plt.xlabel('Sentiment', fontsize=12)\n",
    "plt.ylabel('Number of Reviews')\n",
    "plt.xticks(rotation=0)\n",
    "plt.show()"
   ]
  },
  {
   "cell_type": "code",
   "execution_count": 13,
   "metadata": {},
   "outputs": [
    {
     "name": "stdout",
     "output_type": "stream",
     "text": [
      "Sentiment: Positive\n",
      "Review: I absolutely love this phone! My only problem is I can't receive picture messaging..\n",
      "Polarity: 0.3125\n",
      "\n",
      "Sentiment: Neutral\n",
      "Review: This phone is absolutely fantastic for the price. I will never own another expensive name brand Android again... The processor is quick and not laggy for regular uses. I don't game or use graphic intense apps on my phone so i cannot attest to its performance there.\n",
      "Polarity: -0.03333333333333333\n",
      "\n",
      "Sentiment: Negative\n",
      "Review: I buy two phones, a few days one of her horn damaged handset, and could make the refund through amazon (for that I thank you), but a month will damage the horn to the other, so I think that the phones have a serious problem with atrial horn.\n",
      "Polarity: -0.21944444444444444\n",
      "\n"
     ]
    }
   ],
   "source": [
    "#Task5, B\n",
    "for sentiment in ['Positive', 'Neutral', 'Negative']:\n",
    "    example = filtered_df[filtered_df['Sentiment'] == sentiment].iloc[0]\n",
    "    print(f\"Sentiment: {sentiment}\")\n",
    "    print(f\"Review: {example['Reviews']}\")\n",
    "    print(f\"Polarity: {TextBlob(example['Reviews']).sentiment.polarity}\\n\")\n"
   ]
  },
  {
   "cell_type": "code",
   "execution_count": 14,
   "metadata": {},
   "outputs": [
    {
     "name": "stdout",
     "output_type": "stream",
     "text": [
      "28                                                                                                                                                                                                                                                                                                                                                                                  I buy two phones, a few days one of her horn damaged handset, and could make the refund through amazon (for that I thank you), but a month will damage the horn to the other, so I think that the phones have a serious problem with atrial horn.\n",
      "69                                                                                                                                                                                                                                                  The phone had battery issue in just 3 months. The phone can not be charged at all and the phone can not be turned on. The phone has been sent to the manufacture in Nov. 2015 but has not been fixed yet as of today Jan 22, 2016. We are not satisfied with the poor quality of the phone and the poor customer service of the manufacture and won't suggest to buy BLU product.\n",
      "70                                                                                                                                                                                                                                                                                                                                                                                                                                                                                                                                  This phone is no good. Is not working.my money waste.it never works .the phone keep on restarting\n",
      "81                                                                                                                                                                                                                                                                                                                                                                         Phone I got was REALLY slow and laggy! I hate it compared to the BLU Studio 5.0C HD Quad Core I purchased last year! That phone rocked!! Thought I was buying the same one again, as that what seller showed in photos; however, that is NOT what arrived!\n",
      "94                                                                                                                                                                                                                                                                                                                                                                                                                                                                                                                                 My dad loves this phone. No issues at all. Why spend $700 on a phone? It's completely unnecessary.\n",
      "98                                                                                                                                                                                                                                                                                                                                                                                                                                         Terrible battery, horrible internal storage. Almost all my apps are on my microsd, but I have uninstall apps and then reinstall them to update them because the phone is perpetually full.\n",
      "148     Purchased this phone for my mother's birthday in May 2015 and to my surprise the phone is no good within 5 months. Not sure what the problem is with this phone but it shuts down and each time it is powered on it takes hours to function and just shows BLU and loading on screen, and at times nothing shows on screen. The battery goes very fast and any attempt to charge shuts the phone off. Please let me know if there are any known ways fix out there for these issues, as I do not have the resources to replace this phone and feel so bad for having my mom do away with her other phone for this crappy one.\n",
      "149                                                                                                                                                                                                                                                                                                                                                                                                                   I bought this a few months ago my girlfriend. Battery is horrible. She has to restart the phone all the time; has to re-login to apps frequently. It's a pretty messed up phone. Lots of disappointing aspects.\n",
      "198                                                                                                                                                                                                                                                                                                                                                                                                                    This phone sucks and It wnt let me use it with out wifi and wnt let me send pic messages and have done everything they told me to do and still is not working at all and would like another phone or something\n",
      "224                                                                                                                                     I like the color of the phone (orange). It is easy friendly to operate. So far my only disappointment is the camera. It has a 8mp back camera and a 2mp front facing camera. The pictures are lousy. The still pictures are grainy, fuzzy, and blurry and there isn't any way to correct it. I searched for a phone with a lot of megapixel so I can do video chat with my 2 yr old granddaughter who lives out of states. I can't do it because the video is so terrible. Very disappointed.\n",
      "238                                                                                                                                                                                                                                                                                                                                                                                                                                                                                                                                                                                                                          It sucks\n",
      "280                                                                                                                                                                                                                                                                                                                                                                                                                                                                                                      Horrible battery, always lagging, can't connect to any wifi connection. DO NOT buy. No Wifi capabilities, cannot use at all.\n",
      "374                                                                                                                                                                                                                                                                                                                                                                                                                                                                                                                                                                                                                           No good\n",
      "477                                                                                                                                                                                                                                                                                                                                                                                                                                                                                                                                                                the phone did not work after five months of use, very poor quality\n",
      "556                                                                                                                                                                                                                                                                                                                                                                                                                                                                                                                                                                                             Its exllant phone but batery not good\n",
      "597                                                                                                                                                                                                                                                                                                                        I am very disappointed with this phone. It does not work half the time. I will be talking on it and it will just reset itself. It crashes all the time. Apps stop working after a couple of minutes. The phone will freeze up and not do anything unless you take the battery out and restart it that way.\n",
      "680                                                                                                                                                                                                                                                                                                                                                                                                                                                                                                                                                                                                                         Horrible!\n",
      "729                                                                                                                                                                                                                                                                                                                                                                                                                                                                 very bad , poor quality, wifi disconnects every few minutes , warmed when loading is very slow. I did not like anything,I would not return because I am in mexico\n",
      "768                                                                                                                                                                                                                                                                                                                                                                                                                                                                                                                                My dad loves this phone. No issues at all. Why spend $700 on a phone? It's completely unnecessary.\n",
      "772                                                                                                                                                                                                                                                                                                                                                                                                                                        Terrible battery, horrible internal storage. Almost all my apps are on my microsd, but I have uninstall apps and then reinstall them to update them because the phone is perpetually full.\n",
      "842     Purchased this phone for my mother's birthday in May 2015 and to my surprise the phone is no good within 5 months. Not sure what the problem is with this phone but it shuts down and each time it is powered on it takes hours to function and just shows BLU and loading on screen, and at times nothing shows on screen. The battery goes very fast and any attempt to charge shuts the phone off. Please let me know if there are any known ways fix out there for these issues, as I do not have the resources to replace this phone and feel so bad for having my mom do away with her other phone for this crappy one.\n",
      "843                                                                                                                                                                                                                                                                                                                                                                                                                   I bought this a few months ago my girlfriend. Battery is horrible. She has to restart the phone all the time; has to re-login to apps frequently. It's a pretty messed up phone. Lots of disappointing aspects.\n",
      "924                                                                                                                                                                                                                                                                                                                                                                                                                                                                                                                                 This phone is no good. Is not working.my money waste.it never works .the phone keep on restarting\n",
      "966                                                                                                                                                                                                                                                                                                                                                                                                                                                                                                                                                                         No need to buy the expensive brands this phone has it all\n",
      "1013                                                                                                                                                                                                                                                The phone had battery issue in just 3 months. The phone can not be charged at all and the phone can not be turned on. The phone has been sent to the manufacture in Nov. 2015 but has not been fixed yet as of today Jan 22, 2016. We are not satisfied with the poor quality of the phone and the poor customer service of the manufacture and won't suggest to buy BLU product.\n",
      "1014                                                                                                                                                                                                                                                                                                                                                                                                                                                                                                     Horrible battery, always lagging, can't connect to any wifi connection. DO NOT buy. No Wifi capabilities, cannot use at all.\n",
      "1033                                                                                                                                                                                                                                                                                                                                                                                                                                                                                                                                                                                       Battery life is not good also hang up alot\n",
      "1065                                                                                                                                                                                                                                                                                                                                                                       Phone I got was REALLY slow and laggy! I hate it compared to the BLU Studio 5.0C HD Quad Core I purchased last year! That phone rocked!! Thought I was buying the same one again, as that what seller showed in photos; however, that is NOT what arrived!\n",
      "1108                                                                                                                                    I like the color of the phone (orange). It is easy friendly to operate. So far my only disappointment is the camera. It has a 8mp back camera and a 2mp front facing camera. The pictures are lousy. The still pictures are grainy, fuzzy, and blurry and there isn't any way to correct it. I searched for a phone with a lot of megapixel so I can do video chat with my 2 yr old granddaughter who lives out of states. I can't do it because the video is so terrible. Very disappointed.\n",
      "1152                                                                                                                                                                                                                                                                                                                                                                                                                                                                                                                                                                                                                         It sucks\n",
      "1162                                                                                                                                                                                                                                                                                                                                                                                I buy two phones, a few days one of her horn damaged handset, and could make the refund through amazon (for that I thank you), but a month will damage the horn to the other, so I think that the phones have a serious problem with atrial horn.\n",
      "1192                                                                                                                                                                                                                                                                                                                                                                                                                   This phone sucks and It wnt let me use it with out wifi and wnt let me send pic messages and have done everything they told me to do and still is not working at all and would like another phone or something\n",
      "Name: Reviews, dtype: object\n"
     ]
    }
   ],
   "source": [
    "#Task5, C\n",
    "negative_reviews = filtered_df[filtered_df['Sentiment'] == \"Negative\"]\n",
    "pd.set_option('display.max_colwidth', None)  \n",
    "print(negative_reviews['Reviews'])\n",
    "\n",
    "\n"
   ]
  },
  {
   "cell_type": "code",
   "execution_count": 15,
   "metadata": {},
   "outputs": [
    {
     "name": "stdout",
     "output_type": "stream",
     "text": [
      "Potential Misclassification for Positive Sentiment\n",
      "Review: The phone came in excellent condition , but it turned battery damaged me\n",
      "Rating: 2\n",
      "Polarity: 1.0\n",
      "\n",
      "Potential Misclassification for Negative Sentiment\n",
      "Review: My dad loves this phone. No issues at all. Why spend $700 on a phone? It's completely unnecessary.\n",
      "Rating: 5\n",
      "Polarity: -0.4\n",
      "\n"
     ]
    }
   ],
   "source": [
    "#Task5, D\n",
    "for sentiment in ['Positive', 'Neutral', 'Negative']:\n",
    "    misclassified = filtered_df[(filtered_df['Sentiment'] == sentiment) & ((filtered_df['Rating'] < 3) & (sentiment == 'Positive') | (filtered_df['Rating'] > 3) & (sentiment == 'Negative'))]\n",
    "    if not misclassified.empty:\n",
    "        example = misclassified.iloc[0]\n",
    "        print(f\"Potential Misclassification for {sentiment} Sentiment\")\n",
    "        print(f\"Review: {example['Reviews']}\")\n",
    "        print(f\"Rating: {example['Rating']}\")\n",
    "        print(f\"Polarity: {TextBlob(example['Reviews']).sentiment.polarity}\\n\")\n"
   ]
  },
  {
   "cell_type": "code",
   "execution_count": 16,
   "metadata": {},
   "outputs": [],
   "source": [
    "#Task6\n",
    "filtered_df.to_csv('filterd_data_frame.csv', index=False)\n"
   ]
  }
 ],
 "metadata": {
  "kernelspec": {
   "display_name": "Python 3",
   "language": "python",
   "name": "python3"
  },
  "language_info": {
   "codemirror_mode": {
    "name": "ipython",
    "version": 3
   },
   "file_extension": ".py",
   "mimetype": "text/x-python",
   "name": "python",
   "nbconvert_exporter": "python",
   "pygments_lexer": "ipython3",
   "version": "3.11.5"
  }
 },
 "nbformat": 4,
 "nbformat_minor": 2
}
